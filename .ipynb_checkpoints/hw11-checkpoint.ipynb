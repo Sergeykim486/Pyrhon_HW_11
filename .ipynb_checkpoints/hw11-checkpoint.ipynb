{
 "cells": [
  {
   "cell_type": "code",
   "execution_count": 45,
   "metadata": {},
   "outputs": [],
   "source": [
    "import sympy\n",
    "from sympy import *\n",
    "from sympy.plotting import plot\n",
    "init_printing()"
   ]
  },
  {
   "cell_type": "code",
   "execution_count": 46,
   "metadata": {},
   "outputs": [
    {
     "data": {
      "text/latex": [
       "$\\displaystyle \\sin^{2}{\\left(x \\right)} - \\cos^{2}{\\left(x \\right)}$"
      ],
      "text/plain": [
       "   2         2   \n",
       "sin (x) - cos (x)"
      ]
     },
     "execution_count": 46,
     "metadata": {},
     "output_type": "execute_result"
    }
   ],
   "source": [
    "x = Symbol('x')\n",
    "f = sin(x)**2 - cos(x)**2\n",
    "f"
   ]
  },
  {
   "cell_type": "code",
   "execution_count": 47,
   "metadata": {},
   "outputs": [
    {
     "data": {
      "text/latex": [
       "$\\displaystyle \\left[ - \\frac{\\pi}{4}, \\  \\frac{\\pi}{4}\\right]$"
      ],
      "text/plain": [
       "⎡-π   π⎤\n",
       "⎢───, ─⎥\n",
       "⎣ 4   4⎦"
      ]
     },
     "execution_count": 47,
     "metadata": {},
     "output_type": "execute_result"
    }
   ],
   "source": [
    "solve(f)"
   ]
  },
  {
   "cell_type": "code",
   "execution_count": 48,
   "metadata": {},
   "outputs": [
    {
     "data": {
      "text/latex": [
       "$\\displaystyle 4 \\sin{\\left(x \\right)} \\cos{\\left(x \\right)}$"
      ],
      "text/plain": [
       "4⋅sin(x)⋅cos(x)"
      ]
     },
     "execution_count": 48,
     "metadata": {},
     "output_type": "execute_result"
    }
   ],
   "source": [
    "diff(f)"
   ]
  },
  {
   "cell_type": "code",
   "execution_count": 49,
   "metadata": {},
   "outputs": [
    {
     "data": {
      "text/latex": [
       "$\\displaystyle 0 < x \\wedge x < \\frac{\\pi}{2}$"
      ],
      "text/plain": [
       "            π\n",
       "0 < x ∧ x < ─\n",
       "            2"
      ]
     },
     "execution_count": 49,
     "metadata": {},
     "output_type": "execute_result"
    }
   ],
   "source": [
    "solve(diff(f)>0)"
   ]
  },
  {
   "cell_type": "code",
   "execution_count": 50,
   "metadata": {},
   "outputs": [
    {
     "data": {
      "text/latex": [
       "$\\displaystyle \\frac{\\pi}{2} < x \\wedge x < \\pi$"
      ],
      "text/plain": [
       "π            \n",
       "─ < x ∧ x < π\n",
       "2            "
      ]
     },
     "execution_count": 50,
     "metadata": {},
     "output_type": "execute_result"
    }
   ],
   "source": [
    "solve(diff(f)<0)"
   ]
  },
  {
   "cell_type": "code",
   "execution_count": 51,
   "metadata": {
    "scrolled": true
   },
   "outputs": [
    {
     "name": "stdout",
     "output_type": "stream",
     "text": [
      "      1 |      .       .        .       .        .       .      \n",
      "        |               .                       .               \n",
      "        |     .                .         .                .     \n",
      "        |                                                       \n",
      "        |       .     .          .     .          .     .       \n",
      "        |                                                       \n",
      "        |                                                       \n",
      "        |                .    .           .    .                \n",
      "        |    .                                             .    \n",
      "        |                                                       \n",
      "      0 |-------------------------------------------------------\n",
      "        |        .   .            .   .            .   .        \n",
      "        |                                                       \n",
      "        |                                                       \n",
      "        |.                .                   .                .\n",
      "        |   .                .             .                .   \n",
      "        |                                                       \n",
      "        |         .                . .                .         \n",
      "        |           .                               .           \n",
      "        | ..               ..               ..               .. \n",
      "     -1 |_______________________________________________________\n",
      "         -10                        0                          10\n"
     ]
    }
   ],
   "source": [
    "fp = plot(f)"
   ]
  },
  {
   "cell_type": "code",
   "execution_count": 52,
   "metadata": {},
   "outputs": [
    {
     "data": {
      "text/latex": [
       "$\\displaystyle \\left[ 0, \\  \\frac{\\pi}{2}, \\  \\pi, \\  \\frac{3 \\pi}{2}\\right]$"
      ],
      "text/plain": [
       "⎡   π     3⋅π⎤\n",
       "⎢0, ─, π, ───⎥\n",
       "⎣   2      2 ⎦"
      ]
     },
     "execution_count": 52,
     "metadata": {},
     "output_type": "execute_result"
    }
   ],
   "source": [
    "solve(diff(f))"
   ]
  },
  {
   "cell_type": "code",
   "execution_count": 53,
   "metadata": {},
   "outputs": [
    {
     "data": {
      "text/latex": [
       "$\\displaystyle \\left(0 \\leq x \\wedge x < \\frac{\\pi}{4}\\right) \\vee \\left(\\frac{3 \\pi}{4} < x \\wedge x < \\pi\\right)$"
      ],
      "text/plain": [
       "⎛            π⎞   ⎛3⋅π            ⎞\n",
       "⎜0 ≤ x ∧ x < ─⎟ ∨ ⎜─── < x ∧ x < π⎟\n",
       "⎝            4⎠   ⎝ 4             ⎠"
      ]
     },
     "execution_count": 53,
     "metadata": {},
     "output_type": "execute_result"
    }
   ],
   "source": [
    "solve(f<0)"
   ]
  },
  {
   "cell_type": "code",
   "execution_count": 54,
   "metadata": {},
   "outputs": [
    {
     "data": {
      "text/latex": [
       "$\\displaystyle \\frac{\\pi}{4} < x \\wedge x < \\frac{3 \\pi}{4}$"
      ],
      "text/plain": [
       "π           3⋅π\n",
       "─ < x ∧ x < ───\n",
       "4            4 "
      ]
     },
     "execution_count": 54,
     "metadata": {},
     "output_type": "execute_result"
    }
   ],
   "source": [
    "solve(f>0)"
   ]
  },
  {
   "cell_type": "code",
   "execution_count": 55,
   "metadata": {},
   "outputs": [
    {
     "data": {
      "text/latex": [
       "$\\displaystyle 12 x^{4} \\sin{\\left(\\cos{\\left(x \\right)} \\right)} - 18 x^{3} + 5 x^{2} + 10 x - 30$"
      ],
      "text/plain": [
       "    4                   3      2            \n",
       "12⋅x ⋅sin(cos(x)) - 18⋅x  + 5⋅x  + 10⋅x - 30"
      ]
     },
     "execution_count": 55,
     "metadata": {},
     "output_type": "execute_result"
    }
   ],
   "source": [
    "f2 = 12 * x**4 * sin(cos(x)) - 18 * x**3 + 5 * x**2 + 10 * x - 30\n",
    "f2"
   ]
  },
  {
   "cell_type": "code",
   "execution_count": 57,
   "metadata": {},
   "outputs": [
    {
     "data": {
      "text/latex": [
       "$\\displaystyle - 12 x^{4} \\sin{\\left(x \\right)} \\cos{\\left(\\cos{\\left(x \\right)} \\right)} + 48 x^{3} \\sin{\\left(\\cos{\\left(x \\right)} \\right)} - 54 x^{2} + 10 x + 10$"
      ],
      "text/plain": [
       "      4                          3                   2            \n",
       "- 12⋅x ⋅sin(x)⋅cos(cos(x)) + 48⋅x ⋅sin(cos(x)) - 54⋅x  + 10⋅x + 10"
      ]
     },
     "execution_count": 57,
     "metadata": {},
     "output_type": "execute_result"
    }
   ],
   "source": [
    "diff(f2)"
   ]
  },
  {
   "cell_type": "code",
   "execution_count": 58,
   "metadata": {},
   "outputs": [
    {
     "name": "stdout",
     "output_type": "stream",
     "text": [
      "  30000 |                                                       \n",
      "        |       ....                                            \n",
      "        |           \\                                 ..        \n",
      "        |      .     ..                             ..  .       \n",
      "        |              ......................    ...            \n",
      "        |     .                              ....        .      \n",
      "        |                                                       \n",
      "        |                                                       \n",
      "        |    .                                            .     \n",
      "        |                                                       \n",
      " -40000 |-------------------------------------------------------\n",
      "        |   .                                              .    \n",
      "        |                                                       \n",
      "        |  .                                                    \n",
      "        |..                                                 .   \n",
      "        |                                                       \n",
      "        |                                                       \n",
      "        |                                                    .  \n",
      "        |                                                       \n",
      "        |                                                     . \n",
      "-110000 |_______________________________________________________\n",
      "         -10                        0                          10\n"
     ]
    },
    {
     "data": {
      "text/plain": [
       "<sympy.plotting.plot.Plot at 0x112c688e0>"
      ]
     },
     "execution_count": 58,
     "metadata": {},
     "output_type": "execute_result"
    }
   ],
   "source": [
    "plot(f2)"
   ]
  }
 ],
 "metadata": {
  "kernelspec": {
   "display_name": "Python 3 (ipykernel)",
   "language": "python",
   "name": "python3"
  },
  "language_info": {
   "codemirror_mode": {
    "name": "ipython",
    "version": 3
   },
   "file_extension": ".py",
   "mimetype": "text/x-python",
   "name": "python",
   "nbconvert_exporter": "python",
   "pygments_lexer": "ipython3",
   "version": "3.9.6"
  },
  "vscode": {
   "interpreter": {
    "hash": "31f2aee4e71d21fbe5cf8b01ff0e069b9275f58929596ceb00d14d90e3e16cd6"
   }
  }
 },
 "nbformat": 4,
 "nbformat_minor": 2
}
